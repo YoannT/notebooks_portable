{
 "cells": [
  {
   "cell_type": "code",
   "execution_count": 1,
   "metadata": {},
   "outputs": [],
   "source": [
    "%load_ext autoreload\n",
    "%autoreload 2"
   ]
  },
  {
   "cell_type": "code",
   "execution_count": 2,
   "metadata": {},
   "outputs": [],
   "source": [
    "import os\n",
    "from glob import glob\n",
    "import pandas as pd"
   ]
  },
  {
   "cell_type": "code",
   "execution_count": 11,
   "metadata": {},
   "outputs": [],
   "source": [
    "ANN_PATH = '/home/yoann/tools/brat-v1.3_Crunchy_Frog/data/negation/annot_test_nodup/'"
   ]
  },
  {
   "cell_type": "code",
   "execution_count": 23,
   "metadata": {},
   "outputs": [],
   "source": [
    "ann_files =sorted(glob(ANN_PATH + '*.ann'))\n",
    "\n",
    "txt_lines = []\n",
    "ann_lines = []\n",
    "\n",
    "for ann_file in ann_files:\n",
    "    if os.stat(ann_file).st_size != 0:\n",
    "        txt_file = ann_file.replace('.ann', '.txt')\n",
    "        with open(txt_file, 'r') as txt_f:\n",
    "            txt_lines.extend(txt_f.readlines())\n",
    "        with open(ann_file, 'r') as ann_f:\n",
    "            ann_lines.extend(ann_f.readlines())"
   ]
  },
  {
   "cell_type": "code",
   "execution_count": 44,
   "metadata": {},
   "outputs": [],
   "source": [
    "ann_file = ann_files[0]\n",
    "txt_file = ann_file.replace('.ann', '.txt')\n",
    "\n",
    "ann = pd.read_csv(ann_files[0], sep='\\t', names=['TID', 'label', 'text'])\n",
    "ann['start'] = ann['label'].apply(lambda x: x.split(' ')[1])\n",
    "ann['end'] = ann['label'].apply(lambda x: x.split(' ')[2])\n",
    "ann['label'] = ann['label'].apply(lambda x: x.split(' ')[0])"
   ]
  },
  {
   "cell_type": "code",
   "execution_count": 63,
   "metadata": {},
   "outputs": [],
   "source": [
    "cpt_txt = 0\n",
    "\n",
    "with open(txt_file, 'r') as f:\n",
    "    txt = f.read()\n",
    "    \n",
    "all_lines = []\n",
    "for i, a in ann.iterrows():\n",
    "    all_lines.append([txt[cpt_txt: int(a['start'])], 'Aff'])\n",
    "    all_lines.append([a['text'], a['label']])\n",
    "    cpt_txt = int(a['end'])"
   ]
  },
  {
   "cell_type": "code",
   "execution_count": 64,
   "metadata": {},
   "outputs": [],
   "source": [
    "all_df = pd.DataFrame(all_lines, columns=['text', 'label'])"
   ]
  }
 ],
 "metadata": {
  "kernelspec": {
   "display_name": "Python 3",
   "language": "python",
   "name": "python3"
  },
  "language_info": {
   "codemirror_mode": {
    "name": "ipython",
    "version": 3
   },
   "file_extension": ".py",
   "mimetype": "text/x-python",
   "name": "python",
   "nbconvert_exporter": "python",
   "pygments_lexer": "ipython3",
   "version": "3.7.4"
  }
 },
 "nbformat": 4,
 "nbformat_minor": 2
}
