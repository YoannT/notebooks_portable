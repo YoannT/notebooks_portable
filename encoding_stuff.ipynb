{
 "cells": [
  {
   "cell_type": "code",
   "execution_count": 56,
   "metadata": {},
   "outputs": [
    {
     "name": "stdout",
     "output_type": "stream",
     "text": [
      "['\\ufeffä\\n', '\\n', 'EVOLUTION DANS LE SERVICe\\n', '\\n', 'Exprime beaucoup sa cra)nte de vieillir, d’une éventuelle déchéance physique>\\n', 'Persistance de la tristesse, de l’angoisse matinale avec appréhension de la journée à venir. Attitude parfois de régresSion et demandes parf\\x7fis gormtlées sur ul mode infantile.\\n', 'Amélioration des troubles de la concentration, retrouve le plaisiv de lire et d’éczire, de passer des moments e famille lors des p%rmissions.\\n', 'Discours soUvEnt théâtral. Plaintes subjectives contrastant avec l’impression de l’équipe soignante d’une amélioration. \\n', 'Appréhension du retour au domicile.\\n', 'Prochain rendez-vous de consultation avec le Dr <nom /> le 06/02/00.\\n']\n",
      "ä\n",
      "\n",
      "EVOLUTION DANS LE SERVICe\n",
      "\n",
      "Exprime beaucoup sa cra)nte de vieillir, d’une éventuelle déchéance physique>\n",
      "Persistance de la tristesse, de l’angoisse matinale avec appréhension de la journée à venir. Attitude parfois de régresSion et demandes parfis gormtlées sur ul mode infantile.\n",
      "Amélioration des troubles de la concentration, retrouve le plaisiv de lire et d’éczire, de passer des moments e famille lors des p%rmissions.\n",
      "Discours soUvEnt théâtral. Plaintes subjectives contrastant avec l’impression de l’équipe soignante d’une amélioration. \n",
      "Appréhension du retour au domicile.\n",
      "Prochain rendez-vous de consultation avec le Dr <nom /> le 06/02/00.\n"
     ]
    }
   ],
   "source": [
    "file = '/media/yoann/KINGSTON/COV1-690210 copie.txt'\n",
    "\n",
    "import unicodedata\n",
    "def remove_control_characters(s):\n",
    "    return \"\".join(ch for ch in s if unicodedata.category(ch)[0]!=\"C\")\n",
    "\n",
    "with open(file, 'r') as f:\n",
    "    lines = f.readlines()\n",
    "    \n",
    "print(lines)    \n",
    "    \n",
    "print('\\n'.join(list(map(remove_control_characters, lines))))\n",
    "    \n"
   ]
  },
  {
   "cell_type": "code",
   "execution_count": 42,
   "metadata": {},
   "outputs": [],
   "source": [
    "?re.sub"
   ]
  },
  {
   "cell_type": "code",
   "execution_count": 50,
   "metadata": {},
   "outputs": [
    {
     "data": {
      "text/plain": [
       "'ä'"
      ]
     },
     "execution_count": 50,
     "metadata": {},
     "output_type": "execute_result"
    }
   ],
   "source": [
    "import re\n",
    "\n",
    "b = b'\\xe4'\n",
    "# re.sub(b'\\xe4', b'', b)\n",
    "b.decode('latin1')"
   ]
  },
  {
   "cell_type": "code",
   "execution_count": null,
   "metadata": {},
   "outputs": [],
   "source": []
  }
 ],
 "metadata": {
  "kernelspec": {
   "display_name": "Python 3",
   "language": "python",
   "name": "python3"
  },
  "language_info": {
   "codemirror_mode": {
    "name": "ipython",
    "version": 3
   },
   "file_extension": ".py",
   "mimetype": "text/x-python",
   "name": "python",
   "nbconvert_exporter": "python",
   "pygments_lexer": "ipython3",
   "version": "3.7.4"
  }
 },
 "nbformat": 4,
 "nbformat_minor": 2
}
