{
 "cells": [
  {
   "cell_type": "code",
   "execution_count": 1,
   "metadata": {},
   "outputs": [],
   "source": [
    "%load_ext autoreload\n",
    "%autoreload 2"
   ]
  },
  {
   "cell_type": "code",
   "execution_count": 1,
   "metadata": {},
   "outputs": [
    {
     "data": {
      "text/plain": [
       "{1, 2, 3}"
      ]
     },
     "execution_count": 1,
     "metadata": {},
     "output_type": "execute_result"
    }
   ],
   "source": [
    "string = 'mot a trouver caca'\n",
    "import re\n",
    "regex = '\\bcaca\\b'\n",
    "re."
   ]
  },
  {
   "cell_type": "code",
   "execution_count": 7,
   "metadata": {},
   "outputs": [],
   "source": [
    "from glob import glob\n",
    "import numpy as np\n",
    "import pandas as pd\n",
    "from tqdm import tqdm_notebook as tqdm\n",
    "import re\n",
    "from ast import literal_eval\n",
    "\n",
    "# to remove limits on display\n",
    "pd.set_option('display.max_colwidth', -1)"
   ]
  },
  {
   "cell_type": "code",
   "execution_count": 2,
   "metadata": {},
   "outputs": [],
   "source": [
    "import pyConTextNLP.pyConText as pyConText\n",
    "import pyConTextNLP.itemData as itemData\n",
    "\n",
    "def markup_sentence(s, modifiers, targets, prune_inactive=True):\n",
    "    \"\"\"\n",
    "    \"\"\"\n",
    "    markup = pyConText.ConTextMarkup()\n",
    "    markup.setRawText(s)\n",
    "    markup.cleanText()\n",
    "    markup.markItems(modifiers, mode=\"modifier\")\n",
    "    markup.markItems(targets, mode=\"target\")\n",
    "    markup.pruneMarks()\n",
    "    markup.dropMarks('Exclusion')\n",
    "    # apply modifiers to any targets within the modifiers scope\n",
    "    markup.applyModifiers()\n",
    "    markup.pruneSelfModifyingRelationships()\n",
    "    if prune_inactive:\n",
    "        markup.dropInactiveModifiers()\n",
    "    return markup"
   ]
  },
  {
   "cell_type": "code",
   "execution_count": 3,
   "metadata": {},
   "outputs": [
    {
     "name": "stderr",
     "output_type": "stream",
     "text": [
      "/home/yoann/.local/lib/python3.6/site-packages/pyConTextNLP/itemData.py:40: YAMLLoadWarning: calling yaml.load_all() without Loader=... is deprecated, as the default Loader is unsafe. Please read https://msg.pyyaml.org/load for full details.\n",
      "  context_items =  [contextItem((d[\"Lex\"],\n"
     ]
    }
   ],
   "source": [
    "modifiers = itemData.get_items(\n",
    "    \"https://raw.githubusercontent.com/chapmanbe/pyConTextNLP/master/KB/lexical_kb_05042016.yml\")\n",
    "targets = itemData.get_items(\n",
    "    \"https://raw.githubusercontent.com/chapmanbe/pyConTextNLP/master/KB/utah_crit.yml\")\n"
   ]
  },
  {
   "cell_type": "code",
   "execution_count": 6,
   "metadata": {},
   "outputs": [
    {
     "name": "stdout",
     "output_type": "stream",
     "text": [
      "__________________________________________\n",
      "rawText: Le patient est mort\n",
      "cleanedText: Le patient est mort\n",
      "__________________________________________\n",
      "\n",
      "__________________________________________\n",
      "rawText: The uncle of the patient died of cancer three weeks ago\n",
      "cleanedText: The uncle of the patient died of cancer three weeks ago\n",
      "********************************\n",
      "TARGET: <id> 51371081368255570647537896847795691968 </id> <phrase> cancer </phrase> <category> ['cancer'] </category> \n",
      "__________________________________________\n",
      "\n",
      "__________________________________________\n",
      "rawText: A sexual partner of the patient presents signs of hepatitis C\n",
      "cleanedText: A sexual partner of the patient presents signs of hepatitis C\n",
      "__________________________________________\n",
      "\n"
     ]
    }
   ],
   "source": [
    "sentences = [\n",
    "'The patient presents no sign of pulmonary embolia',\n",
    "'The uncle of the patient died of cancer three weeks ago',\n",
    "'A sexual partner of the patient presents signs of hepatitis C',\n",
    "]\n",
    "\n",
    "for s in sentences:\n",
    "    print(markup_sentence(s, modifiers, targets))"
   ]
  },
  {
   "cell_type": "code",
   "execution_count": 8,
   "metadata": {},
   "outputs": [],
   "source": [
    "def get_filters(\n",
    "    folder='context_java_abdaoui',\n",
    "    neg_only=True,\n",
    "    ):\n",
    "    all_regex = []\n",
    "    \n",
    "    regex_files = glob(folder + '/regex*.txt')\n",
    "    \n",
    "    for file in regex_files:\n",
    "        with open(file, 'r', encoding=\"utf8\") as f:\n",
    "            regex = f.readlines()[0]\n",
    "            try:\n",
    "                all_regex.extend(literal_eval(regex))\n",
    "            except:\n",
    "                all_regex.extend(regex.strip(\"\\\"\").split('\", \"'))\n",
    "                \n",
    "    formatted_regex = [regex.replace('\"', '').replace(\"'\", '').replace(\" ,\", ',').rsplit(',',2) for regex in all_regex]\n",
    "\n",
    "    regex_df = pd.DataFrame(formatted_regex, columns=[\"regex\", \"scope\", \"type\"])\n",
    "    \n",
    "    regex_df.drop_duplicates('regex', inplace=True)\n",
    "    \n",
    "    if neg_only:\n",
    "        regex_df = regex_df[regex_df['type'].isin(['neg'])]\n",
    "    \n",
    "    return regex_df['regex']\n"
   ]
  },
  {
   "cell_type": "code",
   "execution_count": 9,
   "metadata": {},
   "outputs": [
    {
     "data": {
      "text/plain": [
       "0       pas de cause           \n",
       "1       adéquat pour lécarter  \n",
       "2       adéquat pour léliminer \n",
       "3       suffisant pour lécarter\n",
       "4       suffisant pour lexclure\n",
       "                 ...           \n",
       "1256    toujours               \n",
       "1257    alambic                \n",
       "1258    immobile               \n",
       "1260    silencieux             \n",
       "1280    déjà                   \n",
       "Name: regex, Length: 558, dtype: object"
      ]
     },
     "execution_count": 9,
     "metadata": {},
     "output_type": "execute_result"
    }
   ],
   "source": []
  },
  {
   "cell_type": "code",
   "execution_count": null,
   "metadata": {},
   "outputs": [],
   "source": []
  }
 ],
 "metadata": {
  "kernelspec": {
   "display_name": "Python 3",
   "language": "python",
   "name": "python3"
  },
  "language_info": {
   "codemirror_mode": {
    "name": "ipython",
    "version": 3
   },
   "file_extension": ".py",
   "mimetype": "text/x-python",
   "name": "python",
   "nbconvert_exporter": "python",
   "pygments_lexer": "ipython3",
   "version": "3.7.4"
  }
 },
 "nbformat": 4,
 "nbformat_minor": 2
}
